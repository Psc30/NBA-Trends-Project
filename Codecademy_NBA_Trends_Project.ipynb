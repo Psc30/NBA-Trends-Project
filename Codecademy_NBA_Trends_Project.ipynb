{
 "cells": [
  {
   "cell_type": "markdown",
   "metadata": {},
   "source": [
    "# Codecademy [NBA Trends Project](https://www.codecademy.com/projects/practice/nba-trends)\n",
    "\n",
    "*Analyze National Basketball Association (NBA) data to look at associations between teams, win-rates, playoff appearances, and more.*"
   ]
  },
  {
   "cell_type": "markdown",
   "metadata": {},
   "source": [
    "In this project, you'll analyze data from the NBA (National Basketball Association) and explore possible associations. \n",
    "\n",
    "This data was originally sourced from 538's Analysis of the [Complete History Of The NBA](http://fivethirtyeight.com/interactives/the-complete-history-of-every-nba-team-by-elo) and contains the original, unmodified data from [Basketball Reference](http://www.basketball-reference.com/) as well as several additional variables 538 added to perform their own analysis. \n",
    "\n",
    "You can read more about the data and how it's being used by 538 [here](https://github.com/fivethirtyeight/data/tree/master/nba-elo). For this project we've limited the data to just 5 teams and 10 columns (plus one constructed column, `point_diff`, the difference between `pts` and `opp_pts`).\n",
    "\n",
    "You will create several charts and tables in this project, so you'll need to use `plt.clf()` between plots in your code so that the plots don't layer on top of one another.\n"
   ]
  },
  {
   "cell_type": "code",
   "execution_count": 1,
   "metadata": {},
   "outputs": [],
   "source": [
    "import pandas as pd\n",
    "import numpy as np\n",
    "from scipy.stats import pearsonr, chi2_contingency\n",
    "import matplotlib.pyplot as plt\n",
    "import seaborn as sns"
   ]
  },
  {
   "cell_type": "code",
   "execution_count": 2,
   "metadata": {},
   "outputs": [],
   "source": [
    "#to make the output look nicer\n",
    "np.set_printoptions(suppress=True, precision = 2)"
   ]
  },
  {
   "cell_type": "code",
   "execution_count": 3,
   "metadata": {},
   "outputs": [
    {
     "data": {
      "text/html": [
       "<div>\n",
       "<style scoped>\n",
       "    .dataframe tbody tr th:only-of-type {\n",
       "        vertical-align: middle;\n",
       "    }\n",
       "\n",
       "    .dataframe tbody tr th {\n",
       "        vertical-align: top;\n",
       "    }\n",
       "\n",
       "    .dataframe thead th {\n",
       "        text-align: right;\n",
       "    }\n",
       "</style>\n",
       "<table border=\"1\" class=\"dataframe\">\n",
       "  <thead>\n",
       "    <tr style=\"text-align: right;\">\n",
       "      <th></th>\n",
       "      <th>game_id</th>\n",
       "      <th>year_id</th>\n",
       "      <th>fran_id</th>\n",
       "      <th>opp_fran</th>\n",
       "      <th>game_location</th>\n",
       "      <th>is_playoffs</th>\n",
       "      <th>pts</th>\n",
       "      <th>opp_pts</th>\n",
       "      <th>game_result</th>\n",
       "      <th>forecast</th>\n",
       "      <th>point_diff</th>\n",
       "    </tr>\n",
       "  </thead>\n",
       "  <tbody>\n",
       "    <tr>\n",
       "      <th>0</th>\n",
       "      <td>194611010TRH</td>\n",
       "      <td>1947</td>\n",
       "      <td>Knicks</td>\n",
       "      <td>Huskies</td>\n",
       "      <td>A</td>\n",
       "      <td>0</td>\n",
       "      <td>68</td>\n",
       "      <td>66</td>\n",
       "      <td>W</td>\n",
       "      <td>0.359935</td>\n",
       "      <td>2</td>\n",
       "    </tr>\n",
       "    <tr>\n",
       "      <th>1</th>\n",
       "      <td>194611020CHS</td>\n",
       "      <td>1947</td>\n",
       "      <td>Knicks</td>\n",
       "      <td>Stags</td>\n",
       "      <td>A</td>\n",
       "      <td>0</td>\n",
       "      <td>47</td>\n",
       "      <td>63</td>\n",
       "      <td>L</td>\n",
       "      <td>0.368899</td>\n",
       "      <td>-16</td>\n",
       "    </tr>\n",
       "    <tr>\n",
       "      <th>2</th>\n",
       "      <td>194611020PRO</td>\n",
       "      <td>1947</td>\n",
       "      <td>Celtics</td>\n",
       "      <td>Steamrollers</td>\n",
       "      <td>A</td>\n",
       "      <td>0</td>\n",
       "      <td>53</td>\n",
       "      <td>59</td>\n",
       "      <td>L</td>\n",
       "      <td>0.359935</td>\n",
       "      <td>-6</td>\n",
       "    </tr>\n",
       "    <tr>\n",
       "      <th>3</th>\n",
       "      <td>194611050BOS</td>\n",
       "      <td>1947</td>\n",
       "      <td>Celtics</td>\n",
       "      <td>Stags</td>\n",
       "      <td>H</td>\n",
       "      <td>0</td>\n",
       "      <td>55</td>\n",
       "      <td>57</td>\n",
       "      <td>L</td>\n",
       "      <td>0.620204</td>\n",
       "      <td>-2</td>\n",
       "    </tr>\n",
       "    <tr>\n",
       "      <th>4</th>\n",
       "      <td>194611070STB</td>\n",
       "      <td>1947</td>\n",
       "      <td>Knicks</td>\n",
       "      <td>Bombers</td>\n",
       "      <td>A</td>\n",
       "      <td>0</td>\n",
       "      <td>68</td>\n",
       "      <td>63</td>\n",
       "      <td>W</td>\n",
       "      <td>0.339290</td>\n",
       "      <td>5</td>\n",
       "    </tr>\n",
       "  </tbody>\n",
       "</table>\n",
       "</div>"
      ],
      "text/plain": [
       "        game_id  year_id  fran_id      opp_fran game_location  is_playoffs  \\\n",
       "0  194611010TRH     1947   Knicks       Huskies             A            0   \n",
       "1  194611020CHS     1947   Knicks         Stags             A            0   \n",
       "2  194611020PRO     1947  Celtics  Steamrollers             A            0   \n",
       "3  194611050BOS     1947  Celtics         Stags             H            0   \n",
       "4  194611070STB     1947   Knicks       Bombers             A            0   \n",
       "\n",
       "   pts  opp_pts game_result  forecast  point_diff  \n",
       "0   68       66           W  0.359935           2  \n",
       "1   47       63           L  0.368899         -16  \n",
       "2   53       59           L  0.359935          -6  \n",
       "3   55       57           L  0.620204          -2  \n",
       "4   68       63           W  0.339290           5  "
      ]
     },
     "execution_count": 3,
     "metadata": {},
     "output_type": "execute_result"
    }
   ],
   "source": [
    "nba = pd.read_csv('nba_games.csv')\n",
    "nba.head()"
   ]
  },
  {
   "cell_type": "code",
   "execution_count": 4,
   "metadata": {},
   "outputs": [
    {
     "data": {
      "text/html": [
       "<div>\n",
       "<style scoped>\n",
       "    .dataframe tbody tr th:only-of-type {\n",
       "        vertical-align: middle;\n",
       "    }\n",
       "\n",
       "    .dataframe tbody tr th {\n",
       "        vertical-align: top;\n",
       "    }\n",
       "\n",
       "    .dataframe thead th {\n",
       "        text-align: right;\n",
       "    }\n",
       "</style>\n",
       "<table border=\"1\" class=\"dataframe\">\n",
       "  <thead>\n",
       "    <tr style=\"text-align: right;\">\n",
       "      <th></th>\n",
       "      <th>game_id</th>\n",
       "      <th>year_id</th>\n",
       "      <th>fran_id</th>\n",
       "      <th>opp_fran</th>\n",
       "      <th>game_location</th>\n",
       "      <th>is_playoffs</th>\n",
       "      <th>pts</th>\n",
       "      <th>opp_pts</th>\n",
       "      <th>game_result</th>\n",
       "      <th>forecast</th>\n",
       "      <th>point_diff</th>\n",
       "    </tr>\n",
       "  </thead>\n",
       "  <tbody>\n",
       "    <tr>\n",
       "      <th>21717</th>\n",
       "      <td>200910270CLE</td>\n",
       "      <td>2010</td>\n",
       "      <td>Celtics</td>\n",
       "      <td>Cavaliers</td>\n",
       "      <td>A</td>\n",
       "      <td>0</td>\n",
       "      <td>95</td>\n",
       "      <td>89</td>\n",
       "      <td>W</td>\n",
       "      <td>0.277472</td>\n",
       "      <td>6</td>\n",
       "    </tr>\n",
       "    <tr>\n",
       "      <th>21718</th>\n",
       "      <td>200910280BOS</td>\n",
       "      <td>2010</td>\n",
       "      <td>Celtics</td>\n",
       "      <td>Hornets</td>\n",
       "      <td>H</td>\n",
       "      <td>0</td>\n",
       "      <td>92</td>\n",
       "      <td>59</td>\n",
       "      <td>W</td>\n",
       "      <td>0.814619</td>\n",
       "      <td>33</td>\n",
       "    </tr>\n",
       "    <tr>\n",
       "      <th>21719</th>\n",
       "      <td>200910280MIA</td>\n",
       "      <td>2010</td>\n",
       "      <td>Knicks</td>\n",
       "      <td>Heat</td>\n",
       "      <td>A</td>\n",
       "      <td>0</td>\n",
       "      <td>93</td>\n",
       "      <td>115</td>\n",
       "      <td>L</td>\n",
       "      <td>0.258755</td>\n",
       "      <td>-22</td>\n",
       "    </tr>\n",
       "    <tr>\n",
       "      <th>21720</th>\n",
       "      <td>200910280MIN</td>\n",
       "      <td>2010</td>\n",
       "      <td>Nets</td>\n",
       "      <td>Timberwolves</td>\n",
       "      <td>A</td>\n",
       "      <td>0</td>\n",
       "      <td>93</td>\n",
       "      <td>95</td>\n",
       "      <td>L</td>\n",
       "      <td>0.475155</td>\n",
       "      <td>-2</td>\n",
       "    </tr>\n",
       "    <tr>\n",
       "      <th>21721</th>\n",
       "      <td>200910280OKC</td>\n",
       "      <td>2010</td>\n",
       "      <td>Thunder</td>\n",
       "      <td>Kings</td>\n",
       "      <td>H</td>\n",
       "      <td>0</td>\n",
       "      <td>102</td>\n",
       "      <td>89</td>\n",
       "      <td>W</td>\n",
       "      <td>0.716764</td>\n",
       "      <td>13</td>\n",
       "    </tr>\n",
       "  </tbody>\n",
       "</table>\n",
       "</div>"
      ],
      "text/plain": [
       "            game_id  year_id  fran_id      opp_fran game_location  \\\n",
       "21717  200910270CLE     2010  Celtics     Cavaliers             A   \n",
       "21718  200910280BOS     2010  Celtics       Hornets             H   \n",
       "21719  200910280MIA     2010   Knicks          Heat             A   \n",
       "21720  200910280MIN     2010     Nets  Timberwolves             A   \n",
       "21721  200910280OKC     2010  Thunder         Kings             H   \n",
       "\n",
       "       is_playoffs  pts  opp_pts game_result  forecast  point_diff  \n",
       "21717            0   95       89           W  0.277472           6  \n",
       "21718            0   92       59           W  0.814619          33  \n",
       "21719            0   93      115           L  0.258755         -22  \n",
       "21720            0   93       95           L  0.475155          -2  \n",
       "21721            0  102       89           W  0.716764          13  "
      ]
     },
     "execution_count": 4,
     "metadata": {},
     "output_type": "execute_result"
    }
   ],
   "source": [
    "# Subset Data to 2010 Season, 2014 Season\n",
    "nba_2010 = nba[nba.year_id == 2010]\n",
    "nba_2014 = nba[nba.year_id == 2014]\n",
    "\n",
    "nba_2010.head()"
   ]
  },
  {
   "cell_type": "code",
   "execution_count": 5,
   "metadata": {},
   "outputs": [
    {
     "data": {
      "text/html": [
       "<div>\n",
       "<style scoped>\n",
       "    .dataframe tbody tr th:only-of-type {\n",
       "        vertical-align: middle;\n",
       "    }\n",
       "\n",
       "    .dataframe tbody tr th {\n",
       "        vertical-align: top;\n",
       "    }\n",
       "\n",
       "    .dataframe thead th {\n",
       "        text-align: right;\n",
       "    }\n",
       "</style>\n",
       "<table border=\"1\" class=\"dataframe\">\n",
       "  <thead>\n",
       "    <tr style=\"text-align: right;\">\n",
       "      <th></th>\n",
       "      <th>game_id</th>\n",
       "      <th>year_id</th>\n",
       "      <th>fran_id</th>\n",
       "      <th>opp_fran</th>\n",
       "      <th>game_location</th>\n",
       "      <th>is_playoffs</th>\n",
       "      <th>pts</th>\n",
       "      <th>opp_pts</th>\n",
       "      <th>game_result</th>\n",
       "      <th>forecast</th>\n",
       "      <th>point_diff</th>\n",
       "    </tr>\n",
       "  </thead>\n",
       "  <tbody>\n",
       "    <tr>\n",
       "      <th>23468</th>\n",
       "      <td>201310300CLE</td>\n",
       "      <td>2014</td>\n",
       "      <td>Nets</td>\n",
       "      <td>Cavaliers</td>\n",
       "      <td>A</td>\n",
       "      <td>0</td>\n",
       "      <td>94</td>\n",
       "      <td>98</td>\n",
       "      <td>L</td>\n",
       "      <td>0.611981</td>\n",
       "      <td>-4</td>\n",
       "    </tr>\n",
       "    <tr>\n",
       "      <th>23469</th>\n",
       "      <td>201310300NYK</td>\n",
       "      <td>2014</td>\n",
       "      <td>Knicks</td>\n",
       "      <td>Bucks</td>\n",
       "      <td>H</td>\n",
       "      <td>0</td>\n",
       "      <td>90</td>\n",
       "      <td>83</td>\n",
       "      <td>W</td>\n",
       "      <td>0.793150</td>\n",
       "      <td>7</td>\n",
       "    </tr>\n",
       "    <tr>\n",
       "      <th>23470</th>\n",
       "      <td>201310300SAS</td>\n",
       "      <td>2014</td>\n",
       "      <td>Spurs</td>\n",
       "      <td>Grizzlies</td>\n",
       "      <td>H</td>\n",
       "      <td>0</td>\n",
       "      <td>101</td>\n",
       "      <td>94</td>\n",
       "      <td>W</td>\n",
       "      <td>0.692980</td>\n",
       "      <td>7</td>\n",
       "    </tr>\n",
       "    <tr>\n",
       "      <th>23471</th>\n",
       "      <td>201310300TOR</td>\n",
       "      <td>2014</td>\n",
       "      <td>Celtics</td>\n",
       "      <td>Raptors</td>\n",
       "      <td>A</td>\n",
       "      <td>0</td>\n",
       "      <td>87</td>\n",
       "      <td>93</td>\n",
       "      <td>L</td>\n",
       "      <td>0.361233</td>\n",
       "      <td>-6</td>\n",
       "    </tr>\n",
       "    <tr>\n",
       "      <th>23472</th>\n",
       "      <td>201310300UTA</td>\n",
       "      <td>2014</td>\n",
       "      <td>Thunder</td>\n",
       "      <td>Jazz</td>\n",
       "      <td>A</td>\n",
       "      <td>0</td>\n",
       "      <td>101</td>\n",
       "      <td>98</td>\n",
       "      <td>W</td>\n",
       "      <td>0.526056</td>\n",
       "      <td>3</td>\n",
       "    </tr>\n",
       "  </tbody>\n",
       "</table>\n",
       "</div>"
      ],
      "text/plain": [
       "            game_id  year_id  fran_id   opp_fran game_location  is_playoffs  \\\n",
       "23468  201310300CLE     2014     Nets  Cavaliers             A            0   \n",
       "23469  201310300NYK     2014   Knicks      Bucks             H            0   \n",
       "23470  201310300SAS     2014    Spurs  Grizzlies             H            0   \n",
       "23471  201310300TOR     2014  Celtics    Raptors             A            0   \n",
       "23472  201310300UTA     2014  Thunder       Jazz             A            0   \n",
       "\n",
       "       pts  opp_pts game_result  forecast  point_diff  \n",
       "23468   94       98           L  0.611981          -4  \n",
       "23469   90       83           W  0.793150           7  \n",
       "23470  101       94           W  0.692980           7  \n",
       "23471   87       93           L  0.361233          -6  \n",
       "23472  101       98           W  0.526056           3  "
      ]
     },
     "execution_count": 5,
     "metadata": {},
     "output_type": "execute_result"
    }
   ],
   "source": [
    "nba_2014.head()"
   ]
  },
  {
   "cell_type": "markdown",
   "metadata": {},
   "source": [
    "### Task 1\n",
    "The data has been subset for you into two smaller datasets: games from 2010 (named nba_2010) and games from 2014 (named nba_2014). To start, let’s focus on the 2010 data.\n",
    "\n",
    "Suppose you want to compare the knicks to the nets with respect to points earned per game. Using the pts column from the nba_2010 DataFrame, create two series named knicks_pts (fran_id = \"Knicks\") and nets_pts(fran_id = \"Nets\") that represent the points each team has scored in their games.\n"
   ]
  },
  {
   "cell_type": "code",
   "execution_count": 6,
   "metadata": {},
   "outputs": [],
   "source": [
    "knicks_pts_2010 = nba_2010.pts[nba.fran_id == 'Knicks']\n",
    "nets_pts_2010 = nba_2010.pts[nba.fran_id == 'Nets']"
   ]
  },
  {
   "cell_type": "markdown",
   "metadata": {},
   "source": [
    "### Task 2\n",
    "\n",
    "Calculate the difference between the two teams’ average points scored and save the result as diff_means_2010. Based on this value, do you think fran_id and pts are associated? Why or why not?\n"
   ]
  },
  {
   "cell_type": "code",
   "execution_count": 7,
   "metadata": {},
   "outputs": [
    {
     "data": {
      "text/plain": [
       "9.731707317073173"
      ]
     },
     "execution_count": 7,
     "metadata": {},
     "output_type": "execute_result"
    }
   ],
   "source": [
    "knicks_mean_score = np.mean(knicks_pts_2010)\n",
    "nets_mean_score = np.mean(nets_pts_2010)\n",
    "diff_means_2010 = knicks_mean_score - nets_mean_score\n",
    "diff_means_2010"
   ]
  },
  {
   "cell_type": "markdown",
   "metadata": {},
   "source": [
    "### Task 3\n",
    "Rather than comparing means, it’s useful look at the full distribution of values to understand whether a difference in means is meaningful. Create a set of overlapping histograms that can be used to compare the points scored for the Knicks compared to the Nets. Use the series you created in the previous step (1) and the code below to create the plot. Do the distributions appear to be the same?\n"
   ]
  },
  {
   "cell_type": "code",
   "execution_count": 8,
   "metadata": {},
   "outputs": [
    {
     "data": {
      "image/png": "[encoded data removed]",
      "text/plain": [
       "<Figure size 640x480 with 1 Axes>"
      ]
     },
     "metadata": {},
     "output_type": "display_data"
    }
   ],
   "source": [
    "plt.hist(knicks_pts_2010, alpha=0.8, density=True, label='Knicks')\n",
    "plt.hist(nets_pts_2010, alpha=0.8, density=True, label='Nets')\n",
    "plt.legend()\n",
    "plt.title('Knicks and Nets Points Scored - 2010')\n",
    "plt.show()"
   ]
  },
  {
   "cell_type": "markdown",
   "metadata": {},
   "source": [
    "The histogram above shows some overlap and several distinct peaks. The distributions are different, indicating some association between the variables `fran_id` and `pts`."
   ]
  },
  {
   "cell_type": "markdown",
   "metadata": {},
   "source": [
    "### Task 4\n",
    "Now, let’s compare the 2010 games to 2014. Replicate the steps from Tasks 2 and 3 using `nba_2014`. First, calculate the mean difference between the two teams points scored. Save and print the value as `diff_means_2014`. Did the difference in points get larger or smaller in 2014? Then, plot the overlapping histograms. Does the mean difference you calculated make sense?\n"
   ]
  },
  {
   "cell_type": "code",
   "execution_count": 9,
   "metadata": {},
   "outputs": [
    {
     "data": {
      "text/plain": [
       "0.44706798131809933"
      ]
     },
     "execution_count": 9,
     "metadata": {},
     "output_type": "execute_result"
    }
   ],
   "source": [
    "knicks_pts_2014 = nba_2014.pts[nba.fran_id == 'Knicks']\n",
    "nets_pts_2014 = nba_2014.pts[nba.fran_id == 'Nets']\n",
    "\n",
    "knicks_mean_score = np.mean(knicks_pts_2014)\n",
    "nets_mean_score = np.mean(nets_pts_2014)\n",
    "diff_means_2014 = knicks_mean_score - nets_mean_score\n",
    "diff_means_2014"
   ]
  },
  {
   "cell_type": "code",
   "execution_count": 10,
   "metadata": {},
   "outputs": [
    {
     "data": {
      "image/png": "[encoded data removed]",
      "text/plain": [
       "<Figure size 640x480 with 1 Axes>"
      ]
     },
     "metadata": {},
     "output_type": "display_data"
    }
   ],
   "source": [
    "plt.clf()\n",
    "plt.hist(knicks_pts_2014, alpha=0.8, density=True, label='Knicks')\n",
    "plt.hist(nets_pts_2014, alpha=0.8, density=True, label='Nets')\n",
    "plt.legend()\n",
    "plt.title('Knicks and Nets Points Scored - 2014')\n",
    "plt.show()"
   ]
  },
  {
   "cell_type": "markdown",
   "metadata": {},
   "source": [
    "Comparing the two histograms above, the 2010 histogram shows the Knicks and Nets having similar scores slightly below 100 and with the Knicks on the rise over the Nets past 100 pts, whereas the 2014 histogram shows the Nets with a major increase between 100 and 110 pts, and the Knicks having a decline past 110 pts compare to its rising from the 2010 histogram."
   ]
  },
  {
   "cell_type": "markdown",
   "metadata": {},
   "source": [
    "### Task 5\n",
    "For the remainder of this project, we’ll focus on data from 2010. Let’s now include all teams in the dataset and investigate the relationship between franchise and points scored per game.\n",
    "\n",
    "Using nba_2010, generate side-by-side boxplots with points scored (pts) on the y-axis and team (fran_id) on the x-axis. Is there any overlap between the boxes? Does this chart suggest that fran_id and pts are associated? Which pairs of teams, if any, earn different average scores per game?\n"
   ]
  },
  {
   "cell_type": "code",
   "execution_count": 11,
   "metadata": {},
   "outputs": [
    {
     "data": {
      "image/png": "[encoded data removed]",
      "text/plain": [
       "<Figure size 640x480 with 1 Axes>"
      ]
     },
     "metadata": {},
     "output_type": "display_data"
    }
   ],
   "source": [
    "plt.clf()\n",
    "sns.boxplot(nba_2010, x='fran_id', y='pts')\n",
    "plt.title('Points Score by Team in 2010')\n",
    "plt.show()"
   ]
  },
  {
   "cell_type": "markdown",
   "metadata": {},
   "source": [
    "The above boxplot shows that the following pairs of teams Celtics, Knicks, Thunder, and Spurs having similar overlaps but have a higher average score than the Nets. "
   ]
  },
  {
   "cell_type": "markdown",
   "metadata": {},
   "source": [
    "### Task 6\n",
    "We'd like to know if teams tend to win more games at home compared to away.\n",
    "\n",
    "The variable, `game_result`, indicates whether a team won a particular game ('W' stands for “win” and 'L' stands for “loss”). The variable, `game_location`, indicates whether a team was playing at home or away ('H' stands for “home” and 'A' stands for “away”). \n",
    "\n",
    "Data scientists will often calculate a contingency table of frequencies to help them determine if categorical variables are associated. Calculate a table of frequencies that shows the counts of game_result and game_location.\n",
    "\n",
    "Save your result as `location_result_freq` and print your result. Based on this table, do you think the variables are associated?`\n"
   ]
  },
  {
   "cell_type": "code",
   "execution_count": 12,
   "metadata": {},
   "outputs": [
    {
     "data": {
      "text/html": [
       "<div>\n",
       "<style scoped>\n",
       "    .dataframe tbody tr th:only-of-type {\n",
       "        vertical-align: middle;\n",
       "    }\n",
       "\n",
       "    .dataframe tbody tr th {\n",
       "        vertical-align: top;\n",
       "    }\n",
       "\n",
       "    .dataframe thead th {\n",
       "        text-align: right;\n",
       "    }\n",
       "</style>\n",
       "<table border=\"1\" class=\"dataframe\">\n",
       "  <thead>\n",
       "    <tr style=\"text-align: right;\">\n",
       "      <th>game_location</th>\n",
       "      <th>A</th>\n",
       "      <th>H</th>\n",
       "    </tr>\n",
       "    <tr>\n",
       "      <th>game_result</th>\n",
       "      <th></th>\n",
       "      <th></th>\n",
       "    </tr>\n",
       "  </thead>\n",
       "  <tbody>\n",
       "    <tr>\n",
       "      <th>L</th>\n",
       "      <td>133</td>\n",
       "      <td>105</td>\n",
       "    </tr>\n",
       "    <tr>\n",
       "      <th>W</th>\n",
       "      <td>92</td>\n",
       "      <td>120</td>\n",
       "    </tr>\n",
       "  </tbody>\n",
       "</table>\n",
       "</div>"
      ],
      "text/plain": [
       "game_location    A    H\n",
       "game_result            \n",
       "L              133  105\n",
       "W               92  120"
      ]
     },
     "execution_count": 12,
     "metadata": {},
     "output_type": "execute_result"
    }
   ],
   "source": [
    "location_result_freq = pd.crosstab(nba_2010.game_result, nba_2010.game_location)\n",
    "location_result_freq # Observed contingency table"
   ]
  },
  {
   "cell_type": "markdown",
   "metadata": {},
   "source": [
    "From the table above, it appears that teams win more games at home (120 wins) compared to away (92 wins). Similarly, teams lose more games away (133 losses) compared to home (105 losses). This suggests a potential association between `game_result` and `game_location`."
   ]
  },
  {
   "cell_type": "markdown",
   "metadata": {},
   "source": [
    "### Task 7\n",
    "\n",
    "Convert this table of frequencies to a table of proportions and save the result as `location_result_proportions`."
   ]
  },
  {
   "cell_type": "code",
   "execution_count": 13,
   "metadata": {},
   "outputs": [
    {
     "data": {
      "text/html": [
       "<div>\n",
       "<style scoped>\n",
       "    .dataframe tbody tr th:only-of-type {\n",
       "        vertical-align: middle;\n",
       "    }\n",
       "\n",
       "    .dataframe tbody tr th {\n",
       "        vertical-align: top;\n",
       "    }\n",
       "\n",
       "    .dataframe thead th {\n",
       "        text-align: right;\n",
       "    }\n",
       "</style>\n",
       "<table border=\"1\" class=\"dataframe\">\n",
       "  <thead>\n",
       "    <tr style=\"text-align: right;\">\n",
       "      <th>game_location</th>\n",
       "      <th>A</th>\n",
       "      <th>H</th>\n",
       "    </tr>\n",
       "    <tr>\n",
       "      <th>game_result</th>\n",
       "      <th></th>\n",
       "      <th></th>\n",
       "    </tr>\n",
       "  </thead>\n",
       "  <tbody>\n",
       "    <tr>\n",
       "      <th>L</th>\n",
       "      <td>0.295556</td>\n",
       "      <td>0.233333</td>\n",
       "    </tr>\n",
       "    <tr>\n",
       "      <th>W</th>\n",
       "      <td>0.204444</td>\n",
       "      <td>0.266667</td>\n",
       "    </tr>\n",
       "  </tbody>\n",
       "</table>\n",
       "</div>"
      ],
      "text/plain": [
       "game_location         A         H\n",
       "game_result                      \n",
       "L              0.295556  0.233333\n",
       "W              0.204444  0.266667"
      ]
     },
     "execution_count": 13,
     "metadata": {},
     "output_type": "execute_result"
    }
   ],
   "source": [
    "location_result_proportions = location_result_freq/len(nba_2010)\n",
    "location_result_proportions"
   ]
  },
  {
   "cell_type": "markdown",
   "metadata": {},
   "source": [
    "### Task 8\n",
    "Using the contingency table created above (Task 6), calculate the expected contingency table (if there were no association) and the Chi-Square statistic.\n",
    "\n",
    "Does the actual contingency table look similar to the expected table — or different? Based on this output, do you think there is an association between these variables?\n"
   ]
  },
  {
   "cell_type": "code",
   "execution_count": 14,
   "metadata": {},
   "outputs": [
    {
     "name": "stdout",
     "output_type": "stream",
     "text": [
      "Expected contingency table: \n",
      " [[119. 119.]\n",
      " [106. 106.]]\n",
      "\n",
      "Observed contingency table: \n",
      " game_location    A    H\n",
      "game_result            \n",
      "L              133  105\n",
      "W               92  120\n",
      "\n",
      "Chi-Square statistic: 6.501704455367053\n",
      "\n",
      "Pval: 0.010777112875193886\n"
     ]
    }
   ],
   "source": [
    "chi2, pval, dof, expected = chi2_contingency(location_result_freq)\n",
    "print('Expected contingency table:', '\\n', expected)\n",
    "print()\n",
    "print('Observed contingency table:', '\\n', location_result_freq)\n",
    "print()\n",
    "print('Chi-Square statistic:', chi2)\n",
    "print()\n",
    "print('Pval:', pval)"
   ]
  },
  {
   "cell_type": "markdown",
   "metadata": {},
   "source": [
    "*For a 2x2 table, Chi-squared greater than about 4 indicates an association. The observed and expected tables are different, and the Chi-Square statistic is relatively high. To confirm the association, you would typically compare the Chi-Square statistic to a critical value from the Chi-Square distribution table or look at the p-value (pval). If the p-value is less than a significance level (e.g., 0.05), you can conclude that there is a significant association between `game_result` and `game_location`."
   ]
  },
  {
   "cell_type": "markdown",
   "metadata": {},
   "source": [
    "### Task 9\n",
    "\n",
    "For each game, 538 has calculated the probability that each team will win the game. We want to know if teams with a higher probability of winning (according to 538) also tend to win games by more points. \n",
    "\n",
    "In the data, 538's prediction is saved as `forecast`. The `point_diff` column gives the margin of victory/defeat for each team (positive values mean that the team won; negative values mean that they lost). \n",
    "\n",
    "Using `nba_2010`, calculate the covariance between `forecast` (538's projected win probability) and `point_diff` (the margin of victory/defeat) in the dataset. Save and print your result. Looking at the matrix, what is the covariance between these two variables?\n"
   ]
  },
  {
   "cell_type": "code",
   "execution_count": 19,
   "metadata": {},
   "outputs": [
    {
     "name": "stdout",
     "output_type": "stream",
     "text": [
      "forecast and point diff covariance:\n"
     ]
    },
    {
     "data": {
      "text/plain": [
       "array([[  0.05,   1.37],\n",
       "       [  1.37, 186.56]])"
      ]
     },
     "execution_count": 19,
     "metadata": {},
     "output_type": "execute_result"
    }
   ],
   "source": [
    "forecast_point_diff_cov = np.cov(nba_2010.forecast, nba_2010.point_diff)\n",
    "print('forecast and point diff covariance:')\n",
    "forecast_point_diff_cov"
   ]
  },
  {
   "cell_type": "markdown",
   "metadata": {},
   "source": [
    "From the matrix above, the covariance between `forecast` and `point_diff` is the off-diagonal element, which is 1.37. This value indicates the degree to which the two variables change together. A positive covariance suggests that as the forecasted win probability increases, the point differential tends to increase as well."
   ]
  },
  {
   "cell_type": "markdown",
   "metadata": {},
   "source": [
    "### Task 10\n",
    "\n",
    "Because 538’s forecast variable is reported as a probability (not a binary), we can calculate the strength of the correlation.\n",
    "\n",
    "Using nba_2010, calculate the correlation between `forecast` and `point_diff`. Call this `point_diff_forecast_corr`. Save and print your result. Does this value suggest an association between the two variables?\n"
   ]
  },
  {
   "cell_type": "code",
   "execution_count": 22,
   "metadata": {},
   "outputs": [
    {
     "name": "stdout",
     "output_type": "stream",
     "text": [
      "forecast and point_diff correlation:\n"
     ]
    },
    {
     "data": {
      "text/plain": [
       "PearsonRResult(statistic=0.4402088708468082, pvalue=9.410391573139846e-23)"
      ]
     },
     "execution_count": 22,
     "metadata": {},
     "output_type": "execute_result"
    }
   ],
   "source": [
    "point_diff_forecast_corr = pearsonr(nba_2010.forecast, nba_2010.point_diff)\n",
    "print('forecast and point_diff correlation:')\n",
    "point_diff_forecast_corr"
   ]
  },
  {
   "cell_type": "markdown",
   "metadata": {},
   "source": [
    "The first value (0.44) is the correlation coefficient, and the second value is the p-value.\n",
    "\n",
    "- A correlation coefficient of 0.44 indicates a moderate positive correlation between `forecast` and `point_diff`. This means that as the forecasted win probability increases, the point differential tends to increase as well.\n",
    "- The p-value is extremely small (much less than 0.05), indicating that the correlation is statistically significant.\n",
    "\n",
    "Therefore, there is an association between `forecast` and `point_diff`."
   ]
  },
  {
   "cell_type": "markdown",
   "metadata": {},
   "source": [
    "### Task 11\n",
    "\n",
    "Generate a scatter plot of `forecast` (on the x-axis) and `point_diff` (on the y-axis). Does the correlation value make sense?"
   ]
  },
  {
   "cell_type": "code",
   "execution_count": 23,
   "metadata": {},
   "outputs": [
    {
     "data": {
      "image/png": "[encoded data removed]",
      "text/plain": [
       "<Figure size 640x480 with 1 Axes>"
      ]
     },
     "metadata": {},
     "output_type": "display_data"
    }
   ],
   "source": [
    "plt.clf()\n",
    "plt.scatter(x='forecast', y='point_diff', data=nba_2010)\n",
    "plt.title('NBA 2010 Forecast and Point Differential Correlation')\n",
    "plt.xlabel('Forecast Win Probability')\n",
    "plt.ylabel('Point Differential')\n",
    "plt.show()"
   ]
  },
  {
   "cell_type": "markdown",
   "metadata": {},
   "source": [
    "By looking at the scatterplot above, it appears the correlation between `forecast` and `point_diff` are moderately positive and pretty much visually represents the calculations from task 10."
   ]
  }
 ],
 "metadata": {
  "kernelspec": {
   "display_name": "Python 3 (ipykernel)",
   "language": "python",
   "name": "python3"
  },
  "language_info": {
   "codemirror_mode": {
    "name": "ipython",
    "version": 3
   },
   "file_extension": ".py",
   "mimetype": "text/x-python",
   "name": "python",
   "nbconvert_exporter": "python",
   "pygments_lexer": "ipython3",
   "version": "3.10.10"
  }
 },
 "nbformat": 4,
 "nbformat_minor": 4
}
